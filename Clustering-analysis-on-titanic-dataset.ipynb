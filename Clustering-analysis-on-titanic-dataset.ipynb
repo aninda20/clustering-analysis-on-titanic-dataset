{
 "cells": [
  {
   "attachments": {},
   "cell_type": "markdown",
   "metadata": {
    "id": "e3AaPphVQtfQ"
   },
   "source": [
    "# Clustering analysis"
   ]
  },
  {
   "cell_type": "markdown",
   "metadata": {
    "id": "SeewMOzEQtfT"
   },
   "source": [
    "**Desired outcome of the homework.**\n",
    "* In this homework we will look at Titanic dataset from https://www.kaggle.com/c/titanic/data.\n",
    "* The idea is to perform clustering analysis on the dataset!\n",
    "    \n",
    "\n",
    "**Required Python libraries:**\n",
    "* Numpy (www.numpy.org) \n",
    "* Matplotlib (matplotlib.org)\n",
    "* Scikit-learn (scikit-learn.org).\n",
    "\n",
    "\n",
    "**NOTE**\n",
    "* Please don't forget to save the notebook frequently when working in IPython Notebook, otherwise the changes you made can be lost."
   ]
  },
  {
   "cell_type": "markdown",
   "metadata": {
    "id": "7m-jzLoyQtfU"
   },
   "source": [
    "## Problem 1 (100 points): Clustering analysis on Titanic dataset\n",
    "\n",
    "Data preproccessing: Load the Titanic.csv dataset and implement the following tasks (more details about the dataset here: https://www.kaggle.com/c/titanic/data):\n",
    "\n",
    "Step 1. Create new dataframe with colums that will determine clusters, please drop the columns \"Name\", \"Ticket\", \"Fare\", and \"Embarked\", \n",
    "\n",
    "Step 2. Fill NaN values with 0\n",
    "\n",
    "Step 3. Encode Sex colum to 0 and 1 with LabelEncoder (similar to HW4 problem 2 which uses OrdinalEncoder instead): https://scikit-learn.org/stable/modules/generated/sklearn.preprocessing.LabelEncoder.html\n",
    "\n",
    "Step 4. Use PCA for dimensionality reduction (we only need 2 dimensions left), so we can plot datapoints easily: https://scikit-learn.org/stable/modules/generated/sklearn.decomposition.PCA.html, \n",
    "\n",
    "    example code:\n",
    "    - reduction_pca = PCA(n_components=2)\n",
    "    - reduced_features = reduction_pca.fit_transform(features)"
   ]
  },
  {
   "cell_type": "code",
   "execution_count": 160,
   "metadata": {},
   "outputs": [
    {
     "name": "stdout",
     "output_type": "stream",
     "text": [
      "   PassengerId  Survived  Pclass     Sex   Age  SibSp  Parch Cabin\n",
      "0            1         0       3    male  22.0      1      0     0\n",
      "1            2         1       1  female  38.0      1      0   C85\n",
      "2            3         1       3  female  26.0      0      0     0\n",
      "3            4         1       1  female  35.0      1      0  C123\n",
      "4            5         0       3    male  35.0      0      0     0\n",
      "[[ 0.  3.  1. 22.  1.  0.]\n",
      " [ 1.  1.  0. 38.  1.  0.]\n",
      " [ 1.  3.  0. 26.  0.  0.]\n",
      " ...\n",
      " [ 0.  3.  0.  0.  1.  2.]\n",
      " [ 1.  1.  1. 26.  0.  0.]\n",
      " [ 0.  3.  1. 32.  0.  0.]]\n",
      "[[ -1.81534951   0.20248572]\n",
      " [ 14.21517966   0.45727768]\n",
      " [  2.19501631  -0.54673631]\n",
      " ...\n",
      " [-23.81573216   0.94447716]\n",
      " [  2.2300951   -0.65020941]\n",
      " [  8.19408599  -0.56771408]]\n"
     ]
    }
   ],
   "source": [
    "import numpy as np\n",
    "import matplotlib.pyplot as plt\n",
    "import pandas as pd\n",
    "%matplotlib inline\n",
    "\n",
    "titanic_dataset = pd.read_csv(\"titanic.csv\")\n",
    "\n",
    "set_to_use = titanic_dataset\n",
    "set_to_use = set_to_use.drop('Name', axis=1)\n",
    "set_to_use = set_to_use.drop('Ticket', axis=1)\n",
    "set_to_use = set_to_use.drop('Fare', axis=1)\n",
    "set_to_use = set_to_use.drop('Embarked', axis=1)\n",
    "\n",
    "set_to_use.fillna(0, inplace=True)\n",
    "print(set_to_use.head())\n",
    "\n",
    "from sklearn.preprocessing import LabelEncoder\n",
    "encoder = LabelEncoder()\n",
    "encoded_sex = encoder.fit_transform(set_to_use.iloc[:, 3])\n",
    "set_to_use['Sex'] = encoded_sex\n",
    "\n",
    "features = set_to_use.iloc[:, 1:-1].values\n",
    "print(features)\n",
    "\n",
    "from sklearn.decomposition import PCA\n",
    "reduction_pca = PCA(n_components=2)\n",
    "reduced_features = reduction_pca.fit_transform(features)\n",
    "print(reduced_features)"
   ]
  },
  {
   "cell_type": "markdown",
   "metadata": {},
   "source": [
    "(1) After preprocessing above, please apply K-means clustering to the data(i.e., reduced_features). Print the centroid for each cluster. Plot all the clusters with different colors using scatter plot. (Note that after PCA, there are only 2 features left, it is easy to plot all the datapoints.)"
   ]
  },
  {
   "cell_type": "code",
   "execution_count": 161,
   "metadata": {},
   "outputs": [],
   "source": [
    "reduction_pca = PCA(n_components=2)\n",
    "reduced_features = reduction_pca.fit_transform(features)"
   ]
  },
  {
   "cell_type": "code",
   "execution_count": 162,
   "metadata": {},
   "outputs": [],
   "source": [
    "from sklearn.cluster import KMeans"
   ]
  },
  {
   "cell_type": "code",
   "execution_count": 163,
   "metadata": {},
   "outputs": [
    {
     "data": {
      "text/plain": [
       "KMeans(n_clusters=5)"
      ]
     },
     "execution_count": 163,
     "metadata": {},
     "output_type": "execute_result"
    }
   ],
   "source": [
    "\n",
    "km = KMeans(n_clusters=5)\n",
    "clusters = km.fit(reduced_features)\n",
    "clusters"
   ]
  },
  {
   "cell_type": "code",
   "execution_count": 164,
   "metadata": {},
   "outputs": [
    {
     "data": {
      "image/png": "[encoded data removed]",
      "text/plain": [
       "<Figure size 432x288 with 1 Axes>"
      ]
     },
     "metadata": {
      "needs_background": "light"
     },
     "output_type": "display_data"
    }
   ],
   "source": [
    "plt.scatter(reduced_features[:, 0], reduced_features[:, 1], label='Datapoints')\n",
    "plt.scatter(clusters.cluster_centers_[:, 0], clusters.cluster_centers_[:, 1], label='Clusters')\n",
    "plt.title(\"Sklearn version of KMeans\")\n",
    "plt.legend()\n",
    "plt.show()"
   ]
  },
  {
   "cell_type": "code",
   "execution_count": 165,
   "metadata": {},
   "outputs": [
    {
     "data": {
      "text/plain": [
       "(891, 2)"
      ]
     },
     "execution_count": 165,
     "metadata": {},
     "output_type": "execute_result"
    }
   ],
   "source": [
    "reduced_features.shape"
   ]
  },
  {
   "cell_type": "code",
   "execution_count": 166,
   "metadata": {},
   "outputs": [
    {
     "data": {
      "text/plain": [
       "array([[ -3.55585101,  -0.10161391],\n",
       "       [ 20.40166879,   0.15568667],\n",
       "       [-22.6707669 ,   0.13760433],\n",
       "       [  7.26957844,  -0.16324169],\n",
       "       [ 36.77858312,   0.12392474]])"
      ]
     },
     "execution_count": 166,
     "metadata": {},
     "output_type": "execute_result"
    }
   ],
   "source": [
    "clusters.cluster_centers_"
   ]
  },
  {
   "cell_type": "markdown",
   "metadata": {},
   "source": [
    "(2) Please apply K-means clustering to the data (n-clusters=5). Print the centroid for each cluster. Plot all the clusters with different colors using scatter plot. What did you find?"
   ]
  },
  {
   "cell_type": "code",
   "execution_count": 167,
   "metadata": {},
   "outputs": [],
   "source": [
    "import numpy as np\n",
    "import random\n",
    "\n",
    "class KMeans_numpy(object):\n",
    "    #INPUT: n_clusters - number of clusters that algortihm will try to find\n",
    "    #       tolerance -  number when difference between prev cluster and new cluster is less then this number we will stop algo\n",
    "    #       max_iter - how many times cetroids will move\n",
    "    def __init__(self, n_clusters=2, tolerance = 0.001, max_iter = 300):\n",
    "        self.k_clusters = n_clusters\n",
    "        self.tol = tolerance\n",
    "        self.max_iter = max_iter\n",
    "    \n",
    "    #TRAIN/FIT function, used to find the best positions for our clusters\n",
    "    #\n",
    "    #INPUT: X - fetures of dataset in which we are trying to find clusters\n",
    "    def fit(self, X):\n",
    "        #Starting clusters will be random members from X set\n",
    "        self.centroids = []\n",
    "        \n",
    "        for i in range(self.k_clusters):\n",
    "            #this index is used to acces random element from input set\n",
    "            index = random.randint(1, len(X)-1)\n",
    "            self.centroids.append(X[index])\n",
    "        \n",
    "        for i in range(self.max_iter):  \n",
    "            #storing previous values of centroids\n",
    "            prev_centroids = self.centroids\n",
    "            #This will be dict for ploting data later on\n",
    "            #with it we can find data points which are in the some cluster\n",
    "            self.clustered_data = {}\n",
    "            #Centroids values for this iteration\n",
    "            cen_temp = []\n",
    "            \n",
    "            for centroid in range(len(self.centroids)):\n",
    "                #creating empty list of elements for current cluster/centroid\n",
    "                list_of_closer_samples = []\n",
    "                \n",
    "                for k in range(len(X)):\n",
    "                    helper_list = []\n",
    "                    for j in range(self.k_clusters):\n",
    "                        #caluclating euclidian distance between current X value and all centroids in our list\n",
    "                        helper_list.append(self.euclidian_distance(self.centroids[j], X[k]))\n",
    "                    \n",
    "                    #if minimal distance between curent value and centroid that we are currently interested in\n",
    "                    #store value to the list of examples for that centroid\n",
    "                    if np.argmin(helper_list) == centroid:\n",
    "                        list_of_closer_samples.append(X[k])   \n",
    "                \n",
    "                #New position of each cluster is calculated by mean of all examples closest to it\n",
    "                cen_temp.append(np.average(list_of_closer_samples, axis=0))\n",
    "                \n",
    "                self.clustered_data[centroid] = list_of_closer_samples\n",
    "\n",
    "            #check if it is optimized\n",
    "            optimized = True\n",
    "            for c in range(len(self.centroids)):\n",
    "                original_centroid = prev_centroids[c]\n",
    "                current_centroid = cen_temp[c]\n",
    "                #checking if % of change between old position and new position is less then tolerance (0.001 by default)\n",
    "                if np.sum((current_centroid - original_centroid)/original_centroid*100.0) > self.tol:\n",
    "                    optimized = False\n",
    "                    self.centroids = cen_temp\n",
    "                    \n",
    "            if optimized:\n",
    "                break\n",
    "        #return final clusters values [optional, it is only used for graph]\n",
    "        c = self.centroids\n",
    "        return c, self.clustered_data\n",
    "    \n",
    "    #euclidian distance between points\n",
    "    def euclidian_distance(self, centroid, x_current):\n",
    "        return np.sqrt(np.sum(np.power((centroid - x_current), 2)))\n",
    "    \n",
    "    #INPUT: X_test set - set of data to test our clusters on\n",
    "    def predict(self, Xtest):\n",
    "        pred = []\n",
    "        for i in range(len(Xtest)):\n",
    "            help_list = []\n",
    "            for j in range(len(self.centroids)):\n",
    "                help_list.append(self.euclidian_distance(self.centroids[j], Xtest[i]))\n",
    "            pred.append(np.argmin(help_list))\n",
    "        return pred"
   ]
  },
  {
   "cell_type": "code",
   "execution_count": 168,
   "metadata": {},
   "outputs": [],
   "source": [
    "kmm = KMeans_numpy(n_clusters=5, tolerance=0.00001)"
   ]
  },
  {
   "cell_type": "code",
   "execution_count": 169,
   "metadata": {},
   "outputs": [],
   "source": [
    "# Add your code here\n",
    "clusters, clustered_data = kmm.fit(reduced_features)"
   ]
  },
  {
   "cell_type": "code",
   "execution_count": 170,
   "metadata": {},
   "outputs": [],
   "source": [
    "clusters = np.array(clusters)"
   ]
  },
  {
   "cell_type": "code",
   "execution_count": 171,
   "metadata": {},
   "outputs": [],
   "source": [
    "cluster_one_data = np.array(clustered_data[0])\n",
    "cluster_two_data = np.array(clustered_data[1])\n",
    "cluster_three_data = np.array(clustered_data[2])\n",
    "cluster_four_data = np.array(clustered_data[3])\n",
    "cluster_five_data = np.array(clustered_data[4])"
   ]
  },
  {
   "cell_type": "code",
   "execution_count": 172,
   "metadata": {},
   "outputs": [
    {
     "data": {
      "image/png": "[encoded data removed]",
      "text/plain": [
       "<Figure size 864x432 with 1 Axes>"
      ]
     },
     "metadata": {
      "needs_background": "light"
     },
     "output_type": "display_data"
    }
   ],
   "source": [
    "plt.figure(figsize=(12, 6))\n",
    "plt.scatter(cluster_one_data[:, 0], cluster_one_data[:, 1], c='r', label='Cluster One')\n",
    "plt.scatter(cluster_two_data[:, 0], cluster_two_data[:, 1], c='b', label='Cluster two')\n",
    "plt.scatter(cluster_three_data[:, 0], cluster_three_data[:, 1], c='g', label='Cluster three')\n",
    "plt.scatter(cluster_four_data[:, 0], cluster_four_data[:, 1], c='y', label='Cluster four')\n",
    "plt.scatter(cluster_five_data[:, 0], cluster_five_data[:, 1], color='orange', label='Cluster five')\n",
    "plt.scatter(clusters[:, 0], clusters[:, 1], marker='*', s=200, color='black', label='Centroids')\n",
    "plt.title(\"KMeans results\")\n",
    "plt.legend()\n",
    "plt.show()"
   ]
  },
  {
   "cell_type": "code",
   "execution_count": 173,
   "metadata": {},
   "outputs": [
    {
     "data": {
      "text/plain": [
       "'The Euclidean distance is used to find the distance between centroids and data points measured. Because K-means minimizes within-cluster variance and f you look at the definition of variance, it is identical to the sum of squared Euclidean distances from the center.Our objective function is to minimize the total distance from every point in each of the k clusters to the centroid of that cluster. Like most algorithms, we need to iteratively guess different values of the centroid to figure out the best arrangement of clusters. Thus, these plots allow us to do the same.The K-means algorithm aims to choose centroids that minimize the inertia, or within-cluster sum of squared criterion.'"
      ]
     },
     "execution_count": 173,
     "metadata": {},
     "output_type": "execute_result"
    }
   ],
   "source": [
    "'''The Euclidean distance is used to find the distance between centroids and data points measured. Because K-means minimizes within-cluster variance and f you look at the definition of variance, it is identical to the sum of squared Euclidean distances from the center.Our objective function is to minimize the total distance from every point in each of the k clusters to the centroid of that cluster. Like most algorithms, we need to iteratively guess different values of the centroid to figure out the best arrangement of clusters. Thus, these plots allow us to do the same.The K-means algorithm aims to choose centroids that minimize the inertia, or within-cluster sum of squared criterion.'''"
   ]
  },
  {
   "cell_type": "markdown",
   "metadata": {},
   "source": [
    "(3) To determine the best number of clusters in the data, we can apply k-means with varying number of clusters from 1 to 20 and compute their corresponding sum-of-squared errors (i.e., SSE, the sum of squared distances of samples to their closest cluster center). Plot the `Number of Clusters vs. SSE`. What did you find? "
   ]
  },
  {
   "cell_type": "code",
   "execution_count": 174,
   "metadata": {},
   "outputs": [
    {
     "data": {
      "image/png": "[encoded data removed]",
      "text/plain": [
       "<Figure size 648x432 with 1 Axes>"
      ]
     },
     "metadata": {
      "needs_background": "light"
     },
     "output_type": "display_data"
    }
   ],
   "source": [
    "from sklearn.cluster import KMeans\n",
    "sse = []\n",
    "for i in range(1, 20):\n",
    "    test_sklearn = KMeans(n_clusters=i)\n",
    "    test_sklearn.fit(reduced_features)\n",
    "    sse.append(test_sklearn.inertia_)\n",
    "plt.figure(figsize=(9, 6))\n",
    "plt.plot(sse, marker='o', label='SSE for some number of clusters')\n",
    "plt.title(\"The elbow method\")\n",
    "plt.xlabel('Number of clusters')\n",
    "plt.ylabel(\"Sum-of-squared errors\")\n",
    "plt.legend()\n",
    "plt.show()"
   ]
  },
  {
   "cell_type": "code",
   "execution_count": 175,
   "metadata": {},
   "outputs": [
    {
     "data": {
      "text/plain": [
       "'One method to validate the number of clusters is the elbow method. The idea of the elbow method is to run k-means clustering on the dataset for a range of values of k and for each value of k, calculate the Sum of squared errors. As can be observed from the above plot that when k=4 , WCSS(Within Cluster sum of Squares) is much low.On further increasing the value of k there is slow decrease in the error. The line chart looks like an arm and the elbow, i.e k=4 is the best.  The idea is that we want a small SSE, but that the SSE tends to decrease toward 0 as we increase k (the SSE is 0 when k is equal to the number of data points in the dataset, because then each data point is its own cluster, and there is no error between it and the center of its cluster.'"
      ]
     },
     "execution_count": 175,
     "metadata": {},
     "output_type": "execute_result"
    }
   ],
   "source": [
    "'''One method to validate the number of clusters is the elbow method. The idea of the elbow method is to run k-means clustering on the dataset for a range of values of k and for each value of k, calculate the Sum of squared errors. As can be observed from the above plot that when k=4 , WCSS(Within Cluster sum of Squares) is much low.On further increasing the value of k there is slow decrease in the error. The line chart looks like an arm and the elbow, i.e k=4 is the best.  The idea is that we want a small SSE, but that the SSE tends to decrease toward 0 as we increase k (the SSE is 0 when k is equal to the number of data points in the dataset, because then each data point is its own cluster, and there is no error between it and the center of its cluster.'''"
   ]
  }
 ],
 "metadata": {
  "colab": {
   "name": "CaseStudy3.ipynb",
   "provenance": []
  },
  "kernel_info": {
   "name": "python3"
  },
  "kernelspec": {
   "display_name": "Python 3 (ipykernel)",
   "language": "python",
   "name": "python3"
  },
  "language_info": {
   "codemirror_mode": {
    "name": "ipython",
    "version": 3
   },
   "file_extension": ".py",
   "mimetype": "text/x-python",
   "name": "python",
   "nbconvert_exporter": "python",
   "pygments_lexer": "ipython3",
   "version": "3.9.12"
  },
  "nteract": {
   "version": "0.2.0"
  }
 },
 "nbformat": 4,
 "nbformat_minor": 1
}
